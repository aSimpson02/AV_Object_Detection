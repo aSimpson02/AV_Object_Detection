{
 "cells": [
  {
   "cell_type": "code",
   "execution_count": 1,
   "metadata": {},
   "outputs": [
    {
     "name": "stdout",
     "output_type": "stream",
     "text": [
      "Verified path: KittiDataset/image_2/training\n",
      "Verified path: KittiDataset/label_2\n",
      "Verified path: KittiDataset/calib/training\n",
      "Verified path: KittiDataset/image_2/testing\n",
      "Verified path: KittiDataset/calib/testing\n",
      "Loading and preprocessing training data...\n",
      "Processing images in: KittiDataset/image_2/training\n",
      "Loading and preprocessing testing data...\n",
      "Processing images in: KittiDataset/image_2/testing\n",
      "Warning: Unable to load image: KittiDataset/image_2/testing/000797.png\n",
      "Warning: Unable to load image: KittiDataset/image_2/testing/001891.png\n",
      "Warning: Unable to load image: KittiDataset/image_2/testing/001271.png\n",
      "Warning: Unable to load image: KittiDataset/image_2/testing/002752.png\n",
      "Warning: Unable to load image: KittiDataset/image_2/testing/001307.png\n",
      "Warning: Unable to load image: KittiDataset/image_2/testing/004252.png\n",
      "Warning: Unable to load image: KittiDataset/image_2/testing/004397.png\n",
      "Warning: Unable to load image: KittiDataset/image_2/testing/003229.png\n",
      "Warning: Unable to load image: KittiDataset/image_2/testing/001600.png\n",
      "Warning: Unable to load image: KittiDataset/image_2/testing/001832.png\n",
      "Warning: Unable to load image: KittiDataset/image_2/testing/001013.png\n",
      "Warning: Unable to load image: KittiDataset/image_2/testing/000889.png\n",
      "Warning: Unable to load image: KittiDataset/image_2/testing/003234.png\n",
      "Warning: Unable to load image: KittiDataset/image_2/testing/004166.png\n",
      "Warning: Unable to load image: KittiDataset/image_2/testing/001976.png\n",
      "Warning: Unable to load image: KittiDataset/image_2/testing/004467.png\n",
      "Warning: Unable to load image: KittiDataset/image_2/testing/000819.png\n",
      "Warning: Unable to load image: KittiDataset/image_2/testing/001119.png\n",
      "Warning: Unable to load image: KittiDataset/image_2/testing/004514.png\n",
      "Warning: Unable to load image: KittiDataset/image_2/testing/001518.png\n",
      "Warning: Unable to load image: KittiDataset/image_2/testing/003680.png\n",
      "Encoding labels...\n",
      "Applying data augmentation...\n",
      "Saving data...\n",
      "Data preprocessing complete. Files saved.\n"
     ]
    },
    {
     "name": "stderr",
     "output_type": "stream",
     "text": [
      "libpng error: IDAT: CRC error\n"
     ]
    }
   ],
   "source": [
    "#importing relevant lubarries\n",
    "import os\n",
    "import numpy as np\n",
    "from keras.models import Sequential\n",
    "from keras.layers import Conv2D, MaxPooling2D, Flatten, Dense, Dropout\n",
    "from keras.preprocessing.image import ImageDataGenerator\n",
    "from keras.utils import to_categorical\n",
    "from sklearn.model_selection import train_test_split\n",
    "from load_data import data_preprocessing, data_augmentation\n",
    "from CNN_model import building_model, training_model, save_model\n",
    "from keras.utils import to_categorical"
   ]
  },
  {
   "cell_type": "code",
   "execution_count": 2,
   "metadata": {},
   "outputs": [
    {
     "name": "stdout",
     "output_type": "stream",
     "text": [
      "Verified path: KittiDataset/image_2/training\n",
      "Verified path: KittiDataset/label_2\n",
      "Verified path: KittiDataset/image_2/testing\n"
     ]
    }
   ],
   "source": [
    "#checkng paths\n",
    "path = 'KittiDataset'\n",
    "train_image_path = os.path.join(path, 'image_2', 'training')\n",
    "train_label_path = os.path.join(path, 'label_2')\n",
    "test_image_path = os.path.join(path, 'image_2', 'testing')\n",
    "\n",
    "\n",
    "paths = [train_image_path, train_label_path, test_image_path]\n",
    "for p in paths:\n",
    "    if not os.path.exists(p):\n",
    "        raise FileNotFoundError(f\"path does not exist: {p}\")\n",
    "    print(f\"Verified path: {p}\")"
   ]
  },
  {
   "cell_type": "code",
   "execution_count": 3,
   "metadata": {},
   "outputs": [
    {
     "name": "stdout",
     "output_type": "stream",
     "text": [
      "loading and preprocessing training data...\n",
      "Processing images in: KittiDataset/image_2/training\n",
      "loading and preprocessing testing data...\n",
      "Processing images in: KittiDataset/image_2/testing\n",
      "Warning: Unable to load image: KittiDataset/image_2/testing/000797.png\n",
      "Warning: Unable to load image: KittiDataset/image_2/testing/001891.png\n",
      "Warning: Unable to load image: KittiDataset/image_2/testing/001271.png\n",
      "Warning: Unable to load image: KittiDataset/image_2/testing/002752.png\n",
      "Warning: Unable to load image: KittiDataset/image_2/testing/001307.png\n",
      "Warning: Unable to load image: KittiDataset/image_2/testing/004252.png\n",
      "Warning: Unable to load image: KittiDataset/image_2/testing/004397.png\n",
      "Warning: Unable to load image: KittiDataset/image_2/testing/003229.png\n",
      "Warning: Unable to load image: KittiDataset/image_2/testing/001600.png\n",
      "Warning: Unable to load image: KittiDataset/image_2/testing/001832.png\n",
      "Warning: Unable to load image: KittiDataset/image_2/testing/001013.png\n",
      "Warning: Unable to load image: KittiDataset/image_2/testing/000889.png\n",
      "Warning: Unable to load image: KittiDataset/image_2/testing/003234.png\n",
      "Warning: Unable to load image: KittiDataset/image_2/testing/004166.png\n",
      "Warning: Unable to load image: KittiDataset/image_2/testing/001976.png\n",
      "Warning: Unable to load image: KittiDataset/image_2/testing/004467.png\n",
      "Warning: Unable to load image: KittiDataset/image_2/testing/000819.png\n",
      "Warning: Unable to load image: KittiDataset/image_2/testing/001119.png\n",
      "Warning: Unable to load image: KittiDataset/image_2/testing/004514.png\n",
      "Warning: Unable to load image: KittiDataset/image_2/testing/001518.png\n",
      "Warning: Unable to load image: KittiDataset/image_2/testing/003680.png\n"
     ]
    },
    {
     "name": "stderr",
     "output_type": "stream",
     "text": [
      "libpng error: IDAT: CRC error\n"
     ]
    }
   ],
   "source": [
    "#loading and preprocessing teh data\n",
    "print(\"loading and preprocessing training data...\")\n",
    "train_images, train_labels = data_preprocessing(train_image_path, train_label_path)\n",
    "\n",
    "print(\"loading and preprocessing testing data...\")\n",
    "test_images, _ = data_preprocessing(test_image_path)\n",
    "\n",
    "#encoding labels\n",
    "class_mapping = {\n",
    "    'car': 0, 'irrelevant': 1, 'pedestrian': 2, 'bike': 3,\n",
    "    'lorry': 4, 'bus': 5, 'traffic Light': 6,\n",
    "    'road Sign': 7, 'motorbike': 8\n",
    "}\n",
    "\n",
    "train_labels = [\n",
    "    class_mapping.get(label.split()[0], -1) if label is not None else -1\n",
    "    for label in train_labels\n",
    "]"
   ]
  },
  {
   "cell_type": "code",
   "execution_count": 4,
   "metadata": {},
   "outputs": [
    {
     "name": "stdout",
     "output_type": "stream",
     "text": [
      "Warning: Some labels not mapped to class ID.\n"
     ]
    }
   ],
   "source": [
    "#checking for any invalid labels\n",
    "if -1 in train_labels:\n",
    "    print(\"Warning: Some labels not mapped to class ID.\")\n",
    "\n",
    "train_labels = np.array(train_labels)\n",
    "train_labels = to_categorical(train_labels, num_classes=len(class_mapping))"
   ]
  },
  {
   "cell_type": "code",
   "execution_count": null,
   "metadata": {},
   "outputs": [],
   "source": [
    "# saving preprocessed data\n",
    "np.save('train_images.npy', train_images)\n",
    "np.save('train_labels.npy', train_labels)\n",
    "np.save('test_images.npy', test_images)"
   ]
  },
  {
   "cell_type": "code",
   "execution_count": null,
   "metadata": {},
   "outputs": [],
   "source": [
    "#augmentation\n",
    "print(\"data augmentation...\")\n",
    "train_data = data_augmentation(train_images, train_labels)"
   ]
  },
  {
   "cell_type": "code",
   "execution_count": null,
   "metadata": {},
   "outputs": [],
   "source": [
    "#splitting up data\n",
    "X_train, X_val, y_train, y_val = train_test_split(\n",
    "    train_images, train_labels, test_size=0.2, random_state=42\n",
    ")"
   ]
  },
  {
   "cell_type": "code",
   "execution_count": null,
   "metadata": {},
   "outputs": [],
   "source": [
    "#using function in cnn_model.py file to build and train the model\n",
    "model = building_model()\n",
    "model.compile(optimizer='adam', loss='categorical_crossentropy', metrics=['accuracy'])\n",
    "\n",
    "print(\"training model...\")\n",
    "trained_model = training_model(model, X_train, y_train, X_val, y_val, epochs=10)"
   ]
  },
  {
   "cell_type": "code",
   "execution_count": null,
   "metadata": {},
   "outputs": [],
   "source": [
    "#saving the model\n",
    "# save_model(model, filename=\"my_model.keras\")\n",
    "# print(\"training complete. Model saved.\")"
   ]
  }
 ],
 "metadata": {
  "kernelspec": {
   "display_name": "base",
   "language": "python",
   "name": "python3"
  },
  "language_info": {
   "codemirror_mode": {
    "name": "ipython",
    "version": 3
   },
   "file_extension": ".py",
   "mimetype": "text/x-python",
   "name": "python",
   "nbconvert_exporter": "python",
   "pygments_lexer": "ipython3",
   "version": "3.10.9"
  }
 },
 "nbformat": 4,
 "nbformat_minor": 2
}
