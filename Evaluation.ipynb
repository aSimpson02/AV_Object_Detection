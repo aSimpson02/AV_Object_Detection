{
 "cells": [
  {
   "cell_type": "code",
   "execution_count": null,
   "metadata": {},
   "outputs": [],
   "source": [
    "#Importing relevant libraries:::\n",
    "import numpy as np\n",
    "import matplotlib.pyplot as plt\n",
    "from keras.models import load_model\n",
    "from sklearn.metrics import classification_report\n",
    "from keras.utils import to_categorical"
   ]
  },
  {
   "cell_type": "code",
   "execution_count": 1,
   "metadata": {},
   "outputs": [
    {
     "ename": "NameError",
     "evalue": "name 'load_model' is not defined",
     "output_type": "error",
     "traceback": [
      "\u001b[0;31m---------------------------------------------------------------------------\u001b[0m",
      "\u001b[0;31mNameError\u001b[0m                                 Traceback (most recent call last)",
      "Cell \u001b[0;32mIn[1], line 2\u001b[0m\n\u001b[1;32m      1\u001b[0m \u001b[38;5;66;03m#model = load_model(\"cnn_model.h5\")\u001b[39;00m\n\u001b[0;32m----> 2\u001b[0m model \u001b[38;5;241m=\u001b[39m \u001b[43mload_model\u001b[49m(\u001b[38;5;124m\"\u001b[39m\u001b[38;5;124mmy_model.keras\u001b[39m\u001b[38;5;124m\"\u001b[39m)\n\u001b[1;32m      4\u001b[0m \u001b[38;5;66;03m#finding paths to test data\u001b[39;00m\n\u001b[1;32m      5\u001b[0m test_images_path \u001b[38;5;241m=\u001b[39m \u001b[38;5;124m\"\u001b[39m\u001b[38;5;124mtest_images.npy\u001b[39m\u001b[38;5;124m\"\u001b[39m\n",
      "\u001b[0;31mNameError\u001b[0m: name 'load_model' is not defined"
     ]
    }
   ],
   "source": [
    "#model = load_model(\"cnn_model.h5\")\n",
    "model = load_model(\"my_model.keras\")\n",
    "\n",
    "#finding paths to test data\n",
    "test_images_path = \"test_images.npy\"\n",
    "test_labels_path = \"test_labels.npy\""
   ]
  },
  {
   "cell_type": "code",
   "execution_count": 2,
   "metadata": {},
   "outputs": [
    {
     "ename": "NameError",
     "evalue": "name 'np' is not defined",
     "output_type": "error",
     "traceback": [
      "\u001b[0;31m---------------------------------------------------------------------------\u001b[0m",
      "\u001b[0;31mNameError\u001b[0m                                 Traceback (most recent call last)",
      "Cell \u001b[0;32mIn[2], line 2\u001b[0m\n\u001b[1;32m      1\u001b[0m \u001b[38;5;66;03m#loading test data\u001b[39;00m\n\u001b[0;32m----> 2\u001b[0m test_images \u001b[38;5;241m=\u001b[39m \u001b[43mnp\u001b[49m\u001b[38;5;241m.\u001b[39mload(test_images_path)\n\u001b[1;32m      3\u001b[0m test_labels \u001b[38;5;241m=\u001b[39m np\u001b[38;5;241m.\u001b[39mload(test_labels_path)\n\u001b[1;32m      5\u001b[0m \u001b[38;5;66;03m#one-hot encodings on test labels [converting from string to numeric values so it can be understood.]\u001b[39;00m\n",
      "\u001b[0;31mNameError\u001b[0m: name 'np' is not defined"
     ]
    }
   ],
   "source": [
    "#loading test data\n",
    "test_images = np.load(test_images_path)\n",
    "test_labels = np.load(test_labels_path)\n",
    "\n",
    "#one-hot encodings on test labels [converting from string to numeric values so it can be understood.]\n",
    "test_labels = to_categorical(test_labels, num_classes=10)"
   ]
  },
  {
   "cell_type": "code",
   "execution_count": 3,
   "metadata": {},
   "outputs": [],
   "source": [
    "\n",
    "#Evalute and Iterate over model:::\n",
    "def evaluate_model(model, test_images, test_labels):\n",
    "\n",
    "    #acuracy/loss::\n",
    "    loss, accuracy = model.evaluate(test_images, test_labels, verbose=2)\n",
    "    print(f\"test loss: {loss}\")\n",
    "    print(f\"test accuracy: {accuracy}\")\n",
    "\n",
    "    #predictions::\n",
    "    predictions = model.predict(test_images)\n",
    "    predicted = np.argmax(predictions, axis=1)\n",
    "    true = np.argmax(test_labels, axis=1)\n",
    "\n",
    "    #classification\n",
    "    print(\"classification Report:\")\n",
    "    print(classification_report(true, predicted))\n",
    "\n",
    "    #confusion matrix??\n",
    "\n",
    "\n",
    "#matplotlib to plot data???"
   ]
  },
  {
   "cell_type": "code",
   "execution_count": 4,
   "metadata": {},
   "outputs": [
    {
     "ename": "NameError",
     "evalue": "name 'model' is not defined",
     "output_type": "error",
     "traceback": [
      "\u001b[0;31m---------------------------------------------------------------------------\u001b[0m",
      "\u001b[0;31mNameError\u001b[0m                                 Traceback (most recent call last)",
      "Cell \u001b[0;32mIn[4], line 2\u001b[0m\n\u001b[1;32m      1\u001b[0m \u001b[38;5;66;03m#calling to evaluate [+ plot - later]\u001b[39;00m\n\u001b[0;32m----> 2\u001b[0m evaluate_model(\u001b[43mmodel\u001b[49m, test_images, test_labels)\n",
      "\u001b[0;31mNameError\u001b[0m: name 'model' is not defined"
     ]
    }
   ],
   "source": [
    "#calling to evaluate [+ plot - later]\n",
    "evaluate_model(model, test_images, test_labels)\n",
    "#plot_training_history(model_train)"
   ]
  },
  {
   "cell_type": "code",
   "execution_count": null,
   "metadata": {},
   "outputs": [],
   "source": []
  }
 ],
 "metadata": {
  "kernelspec": {
   "display_name": "base",
   "language": "python",
   "name": "python3"
  },
  "language_info": {
   "codemirror_mode": {
    "name": "ipython",
    "version": 3
   },
   "file_extension": ".py",
   "mimetype": "text/x-python",
   "name": "python",
   "nbconvert_exporter": "python",
   "pygments_lexer": "ipython3",
   "version": "3.10.9"
  }
 },
 "nbformat": 4,
 "nbformat_minor": 2
}
