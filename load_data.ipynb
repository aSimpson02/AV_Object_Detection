{
 "cells": [
  {
   "cell_type": "code",
   "execution_count": null,
   "metadata": {},
   "outputs": [],
   "source": [
    "#Importing relevant libraries:::\n",
    "import cv2\n",
    "import numpy as np\n",
    "from keras.preprocessing.image import ImageDataGenerator\n",
    "from sklearn.preprocessing import LabelEncoder\n",
    "import os\n"
   ]
  },
  {
   "cell_type": "code",
   "execution_count": 1,
   "metadata": {},
   "outputs": [
    {
     "ename": "NameError",
     "evalue": "name 'os' is not defined",
     "output_type": "error",
     "traceback": [
      "\u001b[0;31m---------------------------------------------------------------------------\u001b[0m",
      "\u001b[0;31mNameError\u001b[0m                                 Traceback (most recent call last)",
      "Cell \u001b[0;32mIn[1], line 7\u001b[0m\n\u001b[1;32m      4\u001b[0m path \u001b[38;5;241m=\u001b[39m \u001b[38;5;124m'\u001b[39m\u001b[38;5;124mKittiDataset\u001b[39m\u001b[38;5;124m'\u001b[39m\n\u001b[1;32m      6\u001b[0m \u001b[38;5;66;03m#looking into folders/data in the path of the dataset\u001b[39;00m\n\u001b[0;32m----> 7\u001b[0m train_image_path \u001b[38;5;241m=\u001b[39m \u001b[43mos\u001b[49m\u001b[38;5;241m.\u001b[39mpath\u001b[38;5;241m.\u001b[39mjoin(path, \u001b[38;5;124m'\u001b[39m\u001b[38;5;124mimage_2\u001b[39m\u001b[38;5;124m'\u001b[39m, \u001b[38;5;124m'\u001b[39m\u001b[38;5;124mtraining\u001b[39m\u001b[38;5;124m'\u001b[39m)\n\u001b[1;32m      8\u001b[0m train_label_path \u001b[38;5;241m=\u001b[39m os\u001b[38;5;241m.\u001b[39mpath\u001b[38;5;241m.\u001b[39mjoin(path, \u001b[38;5;124m'\u001b[39m\u001b[38;5;124mlabel_2\u001b[39m\u001b[38;5;124m'\u001b[39m)\n\u001b[1;32m      9\u001b[0m train_calib_path \u001b[38;5;241m=\u001b[39m os\u001b[38;5;241m.\u001b[39mpath\u001b[38;5;241m.\u001b[39mjoin(path, \u001b[38;5;124m'\u001b[39m\u001b[38;5;124mcalib\u001b[39m\u001b[38;5;124m'\u001b[39m, \u001b[38;5;124m'\u001b[39m\u001b[38;5;124mtraining\u001b[39m\u001b[38;5;124m'\u001b[39m)\n",
      "\u001b[0;31mNameError\u001b[0m: name 'os' is not defined"
     ]
    }
   ],
   "source": [
    "\n",
    "#upload data here \n",
    "#then process it before augmentation + model training \n",
    "#paths to the dataset in downloads folder\n",
    "path = 'KittiDataset'\n",
    "\n",
    "#looking into folders/data in the path of the dataset\n",
    "train_image_path = os.path.join(path, 'image_2', 'training')\n",
    "train_label_path = os.path.join(path, 'label_2')\n",
    "train_calib_path = os.path.join(path, 'calib', 'training')\n",
    "\n",
    "test_image_path = os.path.join(path, 'image_2', 'testing')\n",
    "test_calib_path = os.path.join(path, 'calib', 'testing')"
   ]
  },
  {
   "cell_type": "code",
   "execution_count": 2,
   "metadata": {},
   "outputs": [
    {
     "ename": "NameError",
     "evalue": "name 'train_image_path' is not defined",
     "output_type": "error",
     "traceback": [
      "\u001b[0;31m---------------------------------------------------------------------------\u001b[0m",
      "\u001b[0;31mNameError\u001b[0m                                 Traceback (most recent call last)",
      "Cell \u001b[0;32mIn[2], line 2\u001b[0m\n\u001b[1;32m      1\u001b[0m \u001b[38;5;66;03m#verifying data here\u001b[39;00m\n\u001b[0;32m----> 2\u001b[0m paths \u001b[38;5;241m=\u001b[39m [\u001b[43mtrain_image_path\u001b[49m, train_label_path, train_calib_path, test_image_path, test_calib_path]\n\u001b[1;32m      3\u001b[0m \u001b[38;5;28;01mfor\u001b[39;00m p \u001b[38;5;129;01min\u001b[39;00m paths:\n\u001b[1;32m      4\u001b[0m     \u001b[38;5;28;01mif\u001b[39;00m \u001b[38;5;129;01mnot\u001b[39;00m os\u001b[38;5;241m.\u001b[39mpath\u001b[38;5;241m.\u001b[39mexists(p):\n",
      "\u001b[0;31mNameError\u001b[0m: name 'train_image_path' is not defined"
     ]
    }
   ],
   "source": [
    "\n",
    "#verifying data here\n",
    "paths = [train_image_path, train_label_path, train_calib_path, test_image_path, test_calib_path]\n",
    "for p in paths:\n",
    "    if not os.path.exists(p):\n",
    "        raise FileNotFoundError(f\"Path does not exist: {p}\")\n",
    "    else:\n",
    "        print(f\"Verified path: {p}\")"
   ]
  },
  {
   "cell_type": "code",
   "execution_count": 4,
   "metadata": {},
   "outputs": [],
   "source": [
    "#Data Preprocessing:::\n",
    "#add in data here, augmentation here too\n",
    "def data_preprocessing(image_path, label_path=None):\n",
    "    print(f\"Processing images in: {image_path}\")\n",
    "    if not isinstance(image_path, str):\n",
    "        raise TypeError(f\"Expected a string for image_path, but got {type(image_path)}\")\n",
    "\n",
    "    images, labels = [], []\n",
    "\n",
    "    #lopping through to find all images in folders \n",
    "    for file_name in os.listdir(image_path):\n",
    "        #print(f\"Contents of {image}: {os.listdir(image)}\")\n",
    "        if file_name.lower().endswith('.png'):\n",
    "            #loading\n",
    "            img_file = os.path.join(image_path, file_name)\n",
    "            img = cv2.imread(img_file)\n",
    "            if img is None:\n",
    "                print(f\"Warning: Unable to load image: {img_file}\")\n",
    "                continue\n",
    "            #resizing and normalizing data on image\n",
    "            img = cv2.resize(img, (64, 64))\n",
    "            img = img / 255.0 \n",
    "            images.append(img)\n",
    "\n",
    "\n",
    "\n",
    "    #lopping through to find all labels in folders\n",
    "        if label_path:\n",
    "                label_file = os.path.join(label_path, file_name.replace('.png', '.txt'))\n",
    "                if os.path.exists(label_file):\n",
    "                    with open(label_file, 'r') as f:\n",
    "                        labels.append(f.read().strip())\n",
    "                else:\n",
    "                    labels.append(None)\n",
    "\n",
    "    return np.array(images), labels\n",
    "\n"
   ]
  },
  {
   "cell_type": "code",
   "execution_count": 5,
   "metadata": {},
   "outputs": [
    {
     "name": "stdout",
     "output_type": "stream",
     "text": [
      "Loading and preprocessing training data...\n"
     ]
    },
    {
     "ename": "NameError",
     "evalue": "name 'train_image_path' is not defined",
     "output_type": "error",
     "traceback": [
      "\u001b[0;31m---------------------------------------------------------------------------\u001b[0m",
      "\u001b[0;31mNameError\u001b[0m                                 Traceback (most recent call last)",
      "Cell \u001b[0;32mIn[5], line 3\u001b[0m\n\u001b[1;32m      1\u001b[0m \u001b[38;5;66;03m#loading test and training data\u001b[39;00m\n\u001b[1;32m      2\u001b[0m \u001b[38;5;28mprint\u001b[39m(\u001b[38;5;124m\"\u001b[39m\u001b[38;5;124mLoading and preprocessing training data...\u001b[39m\u001b[38;5;124m\"\u001b[39m)\n\u001b[0;32m----> 3\u001b[0m train_images, train_labels \u001b[38;5;241m=\u001b[39m data_preprocessing(\u001b[43mtrain_image_path\u001b[49m, train_label_path)\n\u001b[1;32m      5\u001b[0m \u001b[38;5;28mprint\u001b[39m(\u001b[38;5;124m\"\u001b[39m\u001b[38;5;124mLoading and preprocessing testing data...\u001b[39m\u001b[38;5;124m\"\u001b[39m)\n\u001b[1;32m      6\u001b[0m test_images, _ \u001b[38;5;241m=\u001b[39m data_preprocessing(test_image_path)\n",
      "\u001b[0;31mNameError\u001b[0m: name 'train_image_path' is not defined"
     ]
    }
   ],
   "source": [
    "#loading test and training data\n",
    "print(\"Loading and preprocessing training data...\")\n",
    "train_images, train_labels = data_preprocessing(train_image_path, train_label_path)\n",
    "\n",
    "print(\"Loading and preprocessing testing data...\")\n",
    "test_images, _ = data_preprocessing(test_image_path)"
   ]
  },
  {
   "cell_type": "code",
   "execution_count": 7,
   "metadata": {},
   "outputs": [
    {
     "ename": "NameError",
     "evalue": "name 'train_labels' is not defined",
     "output_type": "error",
     "traceback": [
      "\u001b[0;31m---------------------------------------------------------------------------\u001b[0m",
      "\u001b[0;31mNameError\u001b[0m                                 Traceback (most recent call last)",
      "Cell \u001b[0;32mIn[7], line 2\u001b[0m\n\u001b[1;32m      1\u001b[0m \u001b[38;5;66;03m#encode labels into int\u001b[39;00m\n\u001b[0;32m----> 2\u001b[0m \u001b[38;5;28;01mif\u001b[39;00m \u001b[43mtrain_labels\u001b[49m:\n\u001b[1;32m      3\u001b[0m     \u001b[38;5;28mprint\u001b[39m(\u001b[38;5;124m\"\u001b[39m\u001b[38;5;124mEncoding labels...\u001b[39m\u001b[38;5;124m\"\u001b[39m)\n\u001b[1;32m      4\u001b[0m     label_encoder \u001b[38;5;241m=\u001b[39m LabelEncoder()\n",
      "\u001b[0;31mNameError\u001b[0m: name 'train_labels' is not defined"
     ]
    }
   ],
   "source": [
    "#encode labels into int\n",
    "if train_labels:\n",
    "    print(\"Encoding labels...\")\n",
    "    label_encoder = LabelEncoder()\n",
    "    encoded_labels = label_encoder.fit_transform([label for label in train_labels if label is not None])\n",
    "\n"
   ]
  },
  {
   "cell_type": "code",
   "execution_count": 8,
   "metadata": {},
   "outputs": [],
   "source": [
    "#DATA AUGMENTATION\n",
    "# Data Augmentation for training data, not validation\n",
    "def data_augmentation(X_train, y_train, batch_size=32):\n",
    "    datagen = ImageDataGenerator(\n",
    "        rotation_range=20,\n",
    "        width_shift_range=0.2,\n",
    "        height_shift_range=0.2,\n",
    "        horizontal_flip=True,\n",
    "        fill_mode='nearest'\n",
    "    )\n",
    "\n",
    "\n",
    "    #train_data = datagen.flow(X_train, y_train, batch_size=batch_size)\n",
    "    #return train_data\n",
    "    return datagen.flow(X_train, y_train, batch_size=batch_size)"
   ]
  },
  {
   "cell_type": "code",
   "execution_count": 9,
   "metadata": {},
   "outputs": [
    {
     "name": "stdout",
     "output_type": "stream",
     "text": [
      "Applying data augmentation...\n"
     ]
    },
    {
     "ename": "NameError",
     "evalue": "name 'train_images' is not defined",
     "output_type": "error",
     "traceback": [
      "\u001b[0;31m---------------------------------------------------------------------------\u001b[0m",
      "\u001b[0;31mNameError\u001b[0m                                 Traceback (most recent call last)",
      "Cell \u001b[0;32mIn[9], line 5\u001b[0m\n\u001b[1;32m      1\u001b[0m \u001b[38;5;66;03m#calling functions above in order:::\u001b[39;00m\n\u001b[1;32m      2\u001b[0m \u001b[38;5;66;03m#data_preprocessed = data_preprocessing(data)\u001b[39;00m\n\u001b[1;32m      4\u001b[0m \u001b[38;5;28mprint\u001b[39m(\u001b[38;5;124m\"\u001b[39m\u001b[38;5;124mApplying data augmentation...\u001b[39m\u001b[38;5;124m\"\u001b[39m)\n\u001b[0;32m----> 5\u001b[0m train_data \u001b[38;5;241m=\u001b[39m data_augmentation(\u001b[43mtrain_images\u001b[49m, train_labels)\n",
      "\u001b[0;31mNameError\u001b[0m: name 'train_images' is not defined"
     ]
    }
   ],
   "source": [
    "#calling functions above in order:::\n",
    "#data_preprocessed = data_preprocessing(data)\n",
    "\n",
    "print(\"Applying data augmentation...\")\n",
    "train_data = data_augmentation(train_images, train_labels)"
   ]
  },
  {
   "cell_type": "code",
   "execution_count": 10,
   "metadata": {},
   "outputs": [
    {
     "name": "stdout",
     "output_type": "stream",
     "text": [
      "Saving data...\n"
     ]
    },
    {
     "ename": "NameError",
     "evalue": "name 'np' is not defined",
     "output_type": "error",
     "traceback": [
      "\u001b[0;31m---------------------------------------------------------------------------\u001b[0m",
      "\u001b[0;31mNameError\u001b[0m                                 Traceback (most recent call last)",
      "Cell \u001b[0;32mIn[10], line 3\u001b[0m\n\u001b[1;32m      1\u001b[0m \u001b[38;5;66;03m# #saving data\u001b[39;00m\n\u001b[1;32m      2\u001b[0m \u001b[38;5;28mprint\u001b[39m(\u001b[38;5;124m\"\u001b[39m\u001b[38;5;124mSaving data...\u001b[39m\u001b[38;5;124m\"\u001b[39m)\n\u001b[0;32m----> 3\u001b[0m \u001b[43mnp\u001b[49m\u001b[38;5;241m.\u001b[39msave(\u001b[38;5;124m'\u001b[39m\u001b[38;5;124mtrain_images.npy\u001b[39m\u001b[38;5;124m'\u001b[39m, train_images)\n\u001b[1;32m      4\u001b[0m np\u001b[38;5;241m.\u001b[39msave(\u001b[38;5;124m'\u001b[39m\u001b[38;5;124mtrain_labels.npy\u001b[39m\u001b[38;5;124m'\u001b[39m, train_labels)\n\u001b[1;32m      5\u001b[0m np\u001b[38;5;241m.\u001b[39msave(\u001b[38;5;124m'\u001b[39m\u001b[38;5;124mtest_images.npy\u001b[39m\u001b[38;5;124m'\u001b[39m, test_images)\n",
      "\u001b[0;31mNameError\u001b[0m: name 'np' is not defined"
     ]
    }
   ],
   "source": [
    "# #saving data\n",
    "print(\"Saving data...\")\n",
    "np.save('train_images.npy', train_images)\n",
    "np.save('train_labels.npy', train_labels)\n",
    "np.save('test_images.npy', test_images)\n",
    "#np.save('test_calib.npy', test_calib)\n",
    "\n",
    "print(\"Data preprocessing complete. Files saved.\")"
   ]
  },
  {
   "cell_type": "code",
   "execution_count": null,
   "metadata": {},
   "outputs": [],
   "source": []
  }
 ],
 "metadata": {
  "kernelspec": {
   "display_name": "base",
   "language": "python",
   "name": "python3"
  },
  "language_info": {
   "codemirror_mode": {
    "name": "ipython",
    "version": 3
   },
   "file_extension": ".py",
   "mimetype": "text/x-python",
   "name": "python",
   "nbconvert_exporter": "python",
   "pygments_lexer": "ipython3",
   "version": "3.10.9"
  }
 },
 "nbformat": 4,
 "nbformat_minor": 2
}
