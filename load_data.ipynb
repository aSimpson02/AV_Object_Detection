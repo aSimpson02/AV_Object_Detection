{
 "cells": [
  {
   "cell_type": "code",
   "execution_count": 23,
   "metadata": {},
   "outputs": [],
   "source": [
    "#Importing relevant libraries:::\n",
    "import os\n",
    "import cv2\n",
    "import numpy as np\n",
    "from keras.preprocessing.image import ImageDataGenerator\n",
    "from sklearn.preprocessing import LabelEncoder\n"
   ]
  },
  {
   "cell_type": "code",
   "execution_count": 24,
   "metadata": {},
   "outputs": [],
   "source": [
    "# Configuration: paths to the dataset in downloads folder\n",
    "path = 'KittiDataset'\n",
    "train_image_path = os.path.join(path, 'image_2', 'training')\n",
    "train_label_path = os.path.join(path, 'label_2')\n",
    "train_calib_path = os.path.join(path, 'calib', 'training')\n",
    "\n",
    "test_image_path = os.path.join(path, 'image_2', 'testing')\n",
    "test_calib_path = os.path.join(path, 'calib', 'testing')"
   ]
  },
  {
   "cell_type": "code",
   "execution_count": 25,
   "metadata": {},
   "outputs": [
    {
     "name": "stdout",
     "output_type": "stream",
     "text": [
      "Verified path: KittiDataset/image_2/training\n",
      "Verified path: KittiDataset/label_2\n",
      "Verified path: KittiDataset/calib/training\n",
      "Verified path: KittiDataset/image_2/testing\n",
      "Verified path: KittiDataset/calib/testing\n"
     ]
    }
   ],
   "source": [
    "# Verify Dataset Paths\n",
    "def verify_paths(paths):\n",
    "    for p in paths:\n",
    "        if not os.path.exists(p):\n",
    "            raise FileNotFoundError(f\"Path does not exist: {p}\")\n",
    "        else:\n",
    "            print(f\"Verified path: {p}\")\n",
    "\n",
    "paths = [train_image_path, train_label_path, train_calib_path, test_image_path, test_calib_path]\n",
    "verify_paths(paths)"
   ]
  },
  {
   "cell_type": "code",
   "execution_count": 33,
   "metadata": {},
   "outputs": [],
   "source": [
    "#Data Preprocessing:::\n",
    "#add in data here, augmentation here too\n",
    "def data_preprocessing(image_path, label_path=None):\n",
    "    print(f\"Processing images in: {image_path}\")\n",
    "    if not isinstance(image_path, str):\n",
    "        raise TypeError(f\"Expected a string for image_path, but got {type(image_path)}\")\n",
    "\n",
    "    images, labels = [], []\n",
    "\n",
    "    # Looping through images in the folder\n",
    "    for file_name in os.listdir(image_path):\n",
    "        if file_name.lower().endswith('.png'):\n",
    "            img_file = os.path.join(image_path, file_name)\n",
    "            img = cv2.imread(img_file)\n",
    "            if img is None:\n",
    "                print(f\"Warning: Unable to load image: {img_file}\")\n",
    "                continue\n",
    "\n",
    "            try:\n",
    "                # Resize and normalize\n",
    "                img = cv2.resize(img, (64, 64))\n",
    "                img = img / 255.0 \n",
    "                images.append(img)\n",
    "            except Exception as e:\n",
    "                print(f\"Error processing image {img_file}: {e}\")\n",
    "                continue\n",
    "\n",
    "            # Load corresponding label if available\n",
    "            if label_path:\n",
    "                label_file = os.path.join(label_path, file_name.replace('.png', '.txt'))\n",
    "                if os.path.exists(label_file):\n",
    "                    with open(label_file, 'r') as f:\n",
    "                        labels.append(f.read().strip())\n",
    "                else:\n",
    "                    labels.append(None)\n",
    "\n",
    "    # Check length consistency\n",
    "    if label_path and len(images) != len(labels):\n",
    "        print(f\"Warning: Number of images ({len(images)}) and labels ({len(labels)}) do not match.\")\n",
    "        # Align images and labels\n",
    "        min_length = min(len(images), len(labels))\n",
    "        images = images[:min_length]\n",
    "        labels = labels[:min_length]\n",
    "\n",
    "    return np.array(images), labels\n",
    "\n",
    "\n"
   ]
  },
  {
   "cell_type": "code",
   "execution_count": null,
   "metadata": {},
   "outputs": [
    {
     "name": "stdout",
     "output_type": "stream",
     "text": [
      "Loading and preprocessing training data...\n",
      "Processing images in: KittiDataset/image_2/training\n",
      "Loading and preprocessing testing data...\n",
      "Processing images in: KittiDataset/image_2/testing\n",
      "Warning: Unable to load image: KittiDataset/image_2/testing/000797.png\n",
      "Warning: Unable to load image: KittiDataset/image_2/testing/001891.png\n",
      "Warning: Unable to load image: KittiDataset/image_2/testing/001271.png\n",
      "Warning: Unable to load image: KittiDataset/image_2/testing/002752.png\n",
      "Warning: Unable to load image: KittiDataset/image_2/testing/001307.png\n",
      "Warning: Unable to load image: KittiDataset/image_2/testing/004252.png\n",
      "Warning: Unable to load image: KittiDataset/image_2/testing/004397.png\n",
      "Warning: Unable to load image: KittiDataset/image_2/testing/003229.png\n",
      "Warning: Unable to load image: KittiDataset/image_2/testing/001600.png\n",
      "Warning: Unable to load image: KittiDataset/image_2/testing/001832.png\n",
      "Warning: Unable to load image: KittiDataset/image_2/testing/001013.png\n",
      "Warning: Unable to load image: KittiDataset/image_2/testing/000889.png\n",
      "Warning: Unable to load image: KittiDataset/image_2/testing/003234.png\n",
      "Warning: Unable to load image: KittiDataset/image_2/testing/004166.png\n",
      "Warning: Unable to load image: KittiDataset/image_2/testing/001976.png\n",
      "Warning: Unable to load image: KittiDataset/image_2/testing/004467.png\n",
      "Warning: Unable to load image: KittiDataset/image_2/testing/000819.png\n",
      "Warning: Unable to load image: KittiDataset/image_2/testing/001119.png\n",
      "Warning: Unable to load image: KittiDataset/image_2/testing/004514.png\n",
      "Warning: Unable to load image: KittiDataset/image_2/testing/001518.png\n",
      "Warning: Unable to load image: KittiDataset/image_2/testing/003680.png\n"
     ]
    },
    {
     "name": "stderr",
     "output_type": "stream",
     "text": [
      "libpng error: IDAT: CRC error\n"
     ]
    }
   ],
   "source": [
    "#loading test and training data\n",
    "print(\"Loading and preprocessing training data...\")\n",
    "train_images, train_labels = data_preprocessing(train_image_path, train_label_path)\n",
    "\n",
    "print(\"Loading and preprocessing testing data...\")\n",
    "test_images, _ = data_preprocessing(test_image_path)"
   ]
  },
  {
   "cell_type": "code",
   "execution_count": 30,
   "metadata": {},
   "outputs": [
    {
     "name": "stdout",
     "output_type": "stream",
     "text": [
      "Encoding labels...\n"
     ]
    }
   ],
   "source": [
    "# Encode Labels\n",
    "if train_labels:\n",
    "    print(\"Encoding labels...\")\n",
    "    label_encoder = LabelEncoder()\n",
    "    encoded_labels = label_encoder.fit_transform([label for label in train_labels if label is not None])\n",
    "\n"
   ]
  },
  {
   "cell_type": "code",
   "execution_count": 35,
   "metadata": {},
   "outputs": [],
   "source": [
    "#DATA AUGMENTATION\n",
    "# Data Augmentation for training data, not validation\n",
    "def data_augmentation(X_train, y_train, batch_size=32):\n",
    "    datagen = ImageDataGenerator(\n",
    "        rotation_range=20,\n",
    "        width_shift_range=0.2,\n",
    "        height_shift_range=0.2,\n",
    "        horizontal_flip=True,\n",
    "        fill_mode='nearest'\n",
    "    )\n",
    "    return datagen.flow(X_train, y_train, batch_size=batch_size)\n",
    "\n",
    "    \n"
   ]
  },
  {
   "cell_type": "code",
   "execution_count": 36,
   "metadata": {},
   "outputs": [
    {
     "name": "stdout",
     "output_type": "stream",
     "text": [
      "Applying data augmentation...\n"
     ]
    }
   ],
   "source": [
    "#calling functions above in order:::\n",
    "#data_preprocessed = data_preprocessing(data)\n",
    "\n",
    "print(\"Applying data augmentation...\")\n",
    "train_data = data_augmentation(train_images, train_labels)"
   ]
  },
  {
   "cell_type": "code",
   "execution_count": 22,
   "metadata": {},
   "outputs": [
    {
     "name": "stdout",
     "output_type": "stream",
     "text": [
      "Saving data...\n",
      "Data preprocessing complete. Files saved.\n"
     ]
    }
   ],
   "source": [
    "# #saving data\n",
    "print(\"Saving data...\")\n",
    "np.save('train_images.npy', train_images)\n",
    "np.save('train_labels.npy', encoded_labels)\n",
    "np.save('test_images.npy', test_images)\n",
    "#np.save('test_calib.npy', test_calib)\n",
    "\n",
    "print(\"Data preprocessing complete. Files saved.\")\n"
   ]
  },
  {
   "cell_type": "code",
   "execution_count": null,
   "metadata": {},
   "outputs": [],
   "source": []
  }
 ],
 "metadata": {
  "kernelspec": {
   "display_name": "base",
   "language": "python",
   "name": "python3"
  },
  "language_info": {
   "codemirror_mode": {
    "name": "ipython",
    "version": 3
   },
   "file_extension": ".py",
   "mimetype": "text/x-python",
   "name": "python",
   "nbconvert_exporter": "python",
   "pygments_lexer": "ipython3",
   "version": "3.10.9"
  }
 },
 "nbformat": 4,
 "nbformat_minor": 2
}
