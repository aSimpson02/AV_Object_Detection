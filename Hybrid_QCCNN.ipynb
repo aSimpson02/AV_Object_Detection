{
 "cells": [
  {
   "cell_type": "code",
   "execution_count": null,
   "metadata": {},
   "outputs": [],
   "source": [
    "#Importing relevant libraries:::\n",
    "import numpy as np\n",
    "import qiskit\n",
    "from qiskit import QuantumCircuit\n",
    "from qiskit.circuit import Parameter\n",
    "from qiskit.utils import QuantumInstance\n",
    "from sklearn.datasets import make_classification\n",
    "from sklearn.model_selection import train_test_split\n",
    "from sklearn.preprocessing import MinMaxScaler\n",
    "from sklearn.neural_network import MLPClassifier"
   ]
  },
  {
   "cell_type": "code",
   "execution_count": 1,
   "metadata": {},
   "outputs": [
    {
     "ename": "NameError",
     "evalue": "name 'np' is not defined",
     "output_type": "error",
     "traceback": [
      "\u001b[0;31m---------------------------------------------------------------------------\u001b[0m",
      "\u001b[0;31mNameError\u001b[0m                                 Traceback (most recent call last)",
      "Cell \u001b[0;32mIn[1], line 6\u001b[0m\n\u001b[1;32m      3\u001b[0m train_images_path \u001b[38;5;241m=\u001b[39m \u001b[38;5;124m\"\u001b[39m\u001b[38;5;124mtrain_images.npy\u001b[39m\u001b[38;5;124m\"\u001b[39m\n\u001b[1;32m      4\u001b[0m train_labels_path \u001b[38;5;241m=\u001b[39m \u001b[38;5;124m\"\u001b[39m\u001b[38;5;124mtrain_labels.txt\u001b[39m\u001b[38;5;124m\"\u001b[39m\n\u001b[0;32m----> 6\u001b[0m train_images \u001b[38;5;241m=\u001b[39m \u001b[43mnp\u001b[49m\u001b[38;5;241m.\u001b[39mload(train_images_path)\n\u001b[1;32m      7\u001b[0m train_labels \u001b[38;5;241m=\u001b[39m np\u001b[38;5;241m.\u001b[39mload(train_labels_path)\n",
      "\u001b[0;31mNameError\u001b[0m: name 'np' is not defined"
     ]
    }
   ],
   "source": [
    "\n",
    "#load in preprocessed data \n",
    "#paths to data...\n",
    "train_images_path = \"train_images.npy\"\n",
    "train_labels_path = \"train_labels.txt\"\n",
    "\n",
    "train_images = np.load(train_images_path)\n",
    "train_labels = np.load(train_labels_path)"
   ]
  },
  {
   "cell_type": "code",
   "execution_count": null,
   "metadata": {},
   "outputs": [],
   "source": [
    "#splitting data...\n",
    "#X_train, X_test, y_train, y_test = train_test_split(X, y, test_size=0.2, random_state=42)"
   ]
  },
  {
   "cell_type": "code",
   "execution_count": null,
   "metadata": {},
   "outputs": [],
   "source": [
    "#QUANTUM ENCODING :::\n",
    "#encoding using Ry rotationla gates here\n",
    "#classical data is scaled to [0, pi] and encoded into qubits [with Ry gates]\n",
    "def quantum_encoding(circuit, features):\n",
    "    for i, x in enumerate(features):\n",
    "        circuit.ry(x, i)"
   ]
  },
  {
   "cell_type": "code",
   "execution_count": null,
   "metadata": {},
   "outputs": [],
   "source": [
    "#QUANTUM LAYER W ENTANGLEMENT :::\n",
    "#... and parametrized Ry(θ) gates = params - > makes data trainable for teh qunatum layer.\n",
    "#entanglement = CNOT gates between qubits =  circuit.cx(i,i+1)\n",
    "def quantum_layer(circuit, params):\n",
    "    num_qubits = circuit.num_qubits\n",
    "    for i in range(num_qubits):\n",
    "        circuit.ry(params[i], i)  \n",
    "    for i in range(num_qubits - 1):  \n",
    "        circuit.cx(i, i + 1)"
   ]
  },
  {
   "cell_type": "code",
   "execution_count": 2,
   "metadata": {},
   "outputs": [],
   "source": [
    "#LEARNABLE QUANTUM CIRCUIT:::\n",
    "#func to define number of qubits and the quantum circuit.\n",
    "#calling function to encoding layer to add encoding into the quantum circuit\n",
    "#calling the function of parametrized quantum layer \n",
    "#measuring and returning the circuit.\n",
    "def create_qcnn_circuit(features, params):\n",
    "    num_qubits = len(features)\n",
    "    circuit = QuantumCircuit(num_qubits)\n",
    "\n",
    "    quantum_encoding(circuit, features)\n",
    "    \n",
    "    quantum_layer(circuit, params)\n",
    "    \n",
    "    circuit.measure_all()\n",
    "    return circuit"
   ]
  },
  {
   "cell_type": "code",
   "execution_count": 3,
   "metadata": {},
   "outputs": [],
   "source": [
    "#adding in a func here to simulate quantum circuit\n",
    "#calculates value <Z> \n",
    "#copmutes parity\n",
    "def run_circuit(circuit):\n",
    "    simulator = Aer.get_backend('qasm_simulator')\n",
    "    result = execute(circuit, simulator, shots=1024).result()\n",
    "    counts = result.get_counts()\n",
    "    \n",
    "    \n",
    "    total_shots = sum(counts.values())\n",
    "    z_expectation = 0\n",
    "    for state, count in counts.items():\n",
    "        parity = sum(int(bit) for bit in state) % 2\n",
    "        z_expectation += (-1)**parity * count / total_shots\n",
    "    return z_expectation"
   ]
  },
  {
   "cell_type": "code",
   "execution_count": 4,
   "metadata": {},
   "outputs": [],
   "source": [
    "#HYBRID MODEL BUILD:::\n",
    "#combining quantum and classical elements here\n",
    "#quantum ouputs = z_expectation are fed into the CNN \n",
    "def hybrid_model(X, params):\n",
    "    quantum_outputs = []\n",
    "    for features in X:\n",
    "        circuit = create_qcnn_circuit(features, params)\n",
    "        quantum_outputs.append(run_circuit(circuit))\n",
    "    return np.array(quantum_outputs).reshape(-1, 1)"
   ]
  },
  {
   "cell_type": "code",
   "execution_count": 5,
   "metadata": {},
   "outputs": [
    {
     "ename": "NameError",
     "evalue": "name 'X_train' is not defined",
     "output_type": "error",
     "traceback": [
      "\u001b[0;31m---------------------------------------------------------------------------\u001b[0m",
      "\u001b[0;31mNameError\u001b[0m                                 Traceback (most recent call last)",
      "Cell \u001b[0;32mIn[5], line 4\u001b[0m\n\u001b[1;32m      1\u001b[0m \u001b[38;5;66;03m#TRAIN MODEL:::\u001b[39;00m\n\u001b[1;32m      2\u001b[0m \u001b[38;5;66;03m#clssical parameters are optimized, vs quantum outputs = remain the same.\u001b[39;00m\n\u001b[1;32m      3\u001b[0m \u001b[38;5;66;03m#intitialising variables in the quantum circuit\u001b[39;00m\n\u001b[0;32m----> 4\u001b[0m num_qubits \u001b[38;5;241m=\u001b[39m \u001b[43mX_train\u001b[49m\u001b[38;5;241m.\u001b[39mshape[\u001b[38;5;241m1\u001b[39m]\n\u001b[1;32m      5\u001b[0m initial_params \u001b[38;5;241m=\u001b[39m np\u001b[38;5;241m.\u001b[39mrandom\u001b[38;5;241m.\u001b[39mrand(num_qubits)\n\u001b[1;32m      7\u001b[0m \u001b[38;5;66;03m#generating quantum outputs\u001b[39;00m\n",
      "\u001b[0;31mNameError\u001b[0m: name 'X_train' is not defined"
     ]
    }
   ],
   "source": [
    "#TRAIN MODEL:::\n",
    "#clssical parameters are optimized, vs quantum outputs = remain the same.\n",
    "#intitialising variables in the quantum circuit\n",
    "num_qubits = X_train.shape[1]\n",
    "initial_params = np.random.rand(num_qubits)\n",
    "\n",
    "#generating quantum outputs\n",
    "X_train_quantum = hybrid_model(X_train, initial_params)\n",
    "X_test_quantum = hybrid_model(X_test, initial_params)\n",
    "\n",
    "#training mlp classifier w quantum data\n",
    "clf = MLPClassifier(hidden_layer_sizes=(5,), max_iter=500, random_state=42)\n",
    "clf.fit(X_train_quantum, y_train)"
   ]
  },
  {
   "cell_type": "code",
   "execution_count": 6,
   "metadata": {},
   "outputs": [
    {
     "ename": "NameError",
     "evalue": "name 'clf' is not defined",
     "output_type": "error",
     "traceback": [
      "\u001b[0;31m---------------------------------------------------------------------------\u001b[0m",
      "\u001b[0;31mNameError\u001b[0m                                 Traceback (most recent call last)",
      "Cell \u001b[0;32mIn[6], line 3\u001b[0m\n\u001b[1;32m      1\u001b[0m \u001b[38;5;66;03m#[[OTHER FILE FOROUTPUTS AND EVALUATION]]!!!\u001b[39;00m\n\u001b[1;32m      2\u001b[0m \u001b[38;5;66;03m#but for now here:\u001b[39;00m\n\u001b[0;32m----> 3\u001b[0m accuracy \u001b[38;5;241m=\u001b[39m \u001b[43mclf\u001b[49m\u001b[38;5;241m.\u001b[39mscore(X_test_quantum, y_test)\n\u001b[1;32m      4\u001b[0m \u001b[38;5;28mprint\u001b[39m(\u001b[38;5;124mf\u001b[39m\u001b[38;5;124m\"\u001b[39m\u001b[38;5;124mHybrid QCNN Accuracy: \u001b[39m\u001b[38;5;132;01m{\u001b[39;00maccuracy\u001b[38;5;250m \u001b[39m\u001b[38;5;241m*\u001b[39m\u001b[38;5;250m \u001b[39m\u001b[38;5;241m100\u001b[39m\u001b[38;5;132;01m:\u001b[39;00m\u001b[38;5;124m.2f\u001b[39m\u001b[38;5;132;01m}\u001b[39;00m\u001b[38;5;124m%\u001b[39m\u001b[38;5;124m\"\u001b[39m)\n",
      "\u001b[0;31mNameError\u001b[0m: name 'clf' is not defined"
     ]
    }
   ],
   "source": [
    "\n",
    "#[[OTHER FILE FOROUTPUTS AND EVALUATION]]!!!\n",
    "#but for now here:\n",
    "accuracy = clf.score(X_test_quantum, y_test)\n",
    "print(f\"Hybrid QCNN Accuracy: {accuracy * 100:.2f}%\")"
   ]
  },
  {
   "cell_type": "code",
   "execution_count": null,
   "metadata": {},
   "outputs": [],
   "source": []
  }
 ],
 "metadata": {
  "kernelspec": {
   "display_name": "quantum_env",
   "language": "python",
   "name": "python3"
  },
  "language_info": {
   "codemirror_mode": {
    "name": "ipython",
    "version": 3
   },
   "file_extension": ".py",
   "mimetype": "text/x-python",
   "name": "python",
   "nbconvert_exporter": "python",
   "pygments_lexer": "ipython3",
   "version": "3.13.0"
  }
 },
 "nbformat": 4,
 "nbformat_minor": 2
}
